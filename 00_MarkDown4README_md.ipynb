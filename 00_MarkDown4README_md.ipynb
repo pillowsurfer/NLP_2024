{
  "nbformat": 4,
  "nbformat_minor": 0,
  "metadata": {
    "colab": {
      "provenance": [],
      "include_colab_link": true
    },
    "kernelspec": {
      "name": "python3",
      "display_name": "Python 3"
    },
    "language_info": {
      "name": "python"
    }
  },
  "cells": [
    {
      "cell_type": "markdown",
      "metadata": {
        "id": "view-in-github",
        "colab_type": "text"
      },
      "source": [
        "<a href=\"https://colab.research.google.com/github/pillowsurfer/NLP_2024/blob/main/00_MarkDown4README_md.ipynb\" target=\"_parent\"><img src=\"https://colab.research.google.com/assets/colab-badge.svg\" alt=\"Open In Colab\"/></a>"
      ]
    },
    {
      "cell_type": "markdown",
      "source": [
        "# 💤👌❓ **<font color = 'coral pink'>Markdown Language**를 다루는 방법\n",
        "* ## 마크다운의 <font color = 'coral'>더 많은 신텍스</font>를 확인하고 싶다면, [링크 참고](https://www.markdownguide.org/basic-syntax/).\n",
        "&nbsp;"
      ],
      "metadata": {
        "id": "XDBoTvKhrt8g"
      }
    },
    {
      "cell_type": "markdown",
      "source": [
        "# NLP_2024\n",
        "\n",
        "# 🐹🍦 **파이썬 언어**\n",
        "\n",
        "## **Colab**([Visit Colab homepage](https://colab.research.google.com/?utm_source=scs-index))과 **Github** ([Visit Github homepage](https://github.com/))을 이용해 수업을 진행한다.\n",
        "\n",
        "### **1. 'Github'에 가입**([Youtube의 그 설명 영상](https://www.youtube.com/watch?v=c-NikCpec7U))\n",
        "### **2. 'Google Colaboratory'에 가입**(aka. Colab) ([Youtube의 그 설명 영상](https://www.youtube.com/watch?v=2X_EU18OeYM))\n",
        "\n",
        "### **3. 도움이 되는 교재**\n",
        "- Exercises 200 파이썬200제 by 장삼용. 정보문화사 2017\n",
        "- [Jump to Python](https://wikidocs.net/book/1)\n",
        "- [wikidocs for nltk](https://wikidocs.net/21667)\n",
        "\n",
        "### **4. 마크다운 언어**\n",
        "* [Emoji](https://gist.github.com/rxaviers/7360908)\n",
        "* [Markdown syntax](https://www.markdownguide.org/basic-syntax/)\n",
        "\n",
        "### **5. 수업의 소재**\n",
        "| # | Sessions | Keywords |\n",
        "|:--:|:--:|:--:|\n",
        "| 1 | Markdown Language 👪  | [syntax](https://github.com/ms624atyale/NLP_2024/blob/main/0_MarkDown4README_md.ipynb)|  "
      ],
      "metadata": {
        "id": "OtctgkT2NOCS"
      }
    }
  ]
}